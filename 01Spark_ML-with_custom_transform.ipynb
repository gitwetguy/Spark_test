{
 "cells": [
  {
   "cell_type": "markdown",
   "metadata": {},
   "source": [
    "**Import necessary packages**"
   ]
  },
  {
   "cell_type": "code",
   "execution_count": 1,
   "metadata": {},
   "outputs": [
    {
     "name": "stdout",
     "output_type": "stream",
     "text": [
      "WARNING\n"
     ]
    }
   ],
   "source": [
    "from pyspark.sql import SQLContext\n",
    "from pyspark.ml.feature import OneHotEncoderEstimator, StringIndexer, StandardScaler, VectorAssembler, MinMaxScaler\n",
    "from pyspark.ml import Pipeline, Transformer\n",
    "from pyspark.sql.functions import rand\n",
    "from pyspark.mllib.evaluation import MulticlassMetrics\n",
    "\n",
    "from pyspark.ml.util import DefaultParamsReadable, DefaultParamsWritable\n",
    "from pyspark.ml.param.shared import HasOutputCols, Param, Params\n",
    "from pyspark.sql.functions import monotonically_increasing_id\n",
    "\n",
    "from sklearn.preprocessing import RobustScaler\n",
    "\n",
    "import numpy as np\n",
    "import matplotlib.pyplot as plt  # for 畫圖用\n",
    "import pandas as pd# load and evaluate a saved model\n",
    "import datetime\n",
    "\n",
    "from sklearn import preprocessing\n",
    "\n",
    "# Keras / Deep Learning\n",
    "\"\"\"\n",
    "from keras.models import Sequential\n",
    "from keras.layers.core import Dense, Dropout, Activation\n",
    "from keras import optimizers, regularizers\n",
    "from keras.optimizers import Adam\n",
    "\"\"\"\n",
    "\n",
    "from keras.models import load_model\n",
    "from keras.models import Sequential, Model\n",
    "from keras.layers import Dense, Dropout, Activation, Flatten, LSTM, TimeDistributed, RepeatVector,GRU, Input, ConvLSTM2D, Bidirectional\n",
    "from keras.layers.normalization import BatchNormalization\n",
    "from keras.optimizers import Adam\n",
    "from keras.callbacks import EarlyStopping, ModelCheckpoint\n",
    "# Elephas for Deep Learning on Spark\n",
    "from elephas.ml_model import ElephasEstimator\n",
    "import numpy as np"
   ]
  },
  {
   "cell_type": "markdown",
   "metadata": {},
   "source": [
    "**Custom Transformer**"
   ]
  },
  {
   "cell_type": "code",
   "execution_count": 2,
   "metadata": {},
   "outputs": [],
   "source": [
    "# CUSTOM TRANSFORMER ----------------------------------------------------------------\n",
    "class ModelPredict(Transformer, HasOutputCols, DefaultParamsReadable, DefaultParamsWritable,):\n",
    "    \"\"\"\n",
    "    A custom Transformer which drops all columns that have at least one of the\n",
    "    words from the banned_list in the name.\n",
    "    \"\"\"\n",
    "\n",
    "    def __init__(self, inputCol,outputCol):\n",
    "        #super(ColumnDropper, self).__init__()\n",
    "        self.inputCol = inputCol\n",
    "        self.outputCol = outputCol\n",
    "        print(\"Load model...\")\n",
    "        self.model = load_model(\"Model/20201231_233317_MEM_used_stack_LSTM_0.59MAE_1.62RMSE.h5\")\n",
    "        print(\"Done\")\n",
    "        \n",
    "    #def _fit(self, dataset):\n",
    "        \n",
    "\n",
    "    def _transform(self, df) :\n",
    "        #df = df.drop(*[x for x in df.columns if any(y in x for y in self.banned_list)])\n",
    "        #df = df.na.drop()\n",
    "        #Input = np.array(self.df[self.inputCol].values)\n",
    "        #self.output = self.model.model_predict(Input)\n",
    "        #print(self.inputCol)\n",
    "        \n",
    "        data = df.select(self.inputCol).collect()\n",
    "        #print(data)\n",
    "        #print(len(data))\n",
    "        input_data = np.array(data)\n",
    "        #print(input_data.shape)\n",
    "        input_data = np.reshape(input_data,(1,input_data.shape[0],1))\n",
    "        #print(\"( %d , %d , %d)\"%(input_data.shape[0],input_data.shape[1],input_data.shape[2]))\n",
    "        output = self.model.predict(input_data)\n",
    "        #print(output)\n",
    "        #return  df.withColumn(\"pred\",df[self.inputCol])\n",
    "        return output\n",
    "    \n",
    "class MyRobust(Transformer, HasOutputCols, DefaultParamsReadable, DefaultParamsWritable,):\n",
    "    \"\"\"\n",
    "    A custom Transformer which drops all columns that have at least one of the\n",
    "    words from the banned_list in the name.\n",
    "    \"\"\"\n",
    "\n",
    "    def __init__(self, inputCol,outputCol):\n",
    "        #super(ColumnDropper, self).__init__()\n",
    "        self.inputCol = inputCol\n",
    "        self.outputCol = outputCol\n",
    "                \n",
    "\n",
    "    def _transform(self, df) :\n",
    "        #df = df.drop(*[x for x in df.columns if any(y in x for y in self.banned_list)])\n",
    "        #df = df.na.drop()\n",
    "        #Input = np.array(self.df[self.inputCol].values)\n",
    "        #self.output = self.model.model_predict(Input)\n",
    "        #print(self.outputCol)\n",
    "        \n",
    "        data = df.select(self.inputCol).collect()\n",
    "        \n",
    "        input_data = np.array(data)\n",
    "        \n",
    "        input_data = np.reshape(input_data,(input_data.shape[0],1))\n",
    "        sc = RobustScaler()\n",
    "        scaled_data = sc.fit_transform(input_data)\n",
    "        scaled_data_pandas = pd.DataFrame(scaled_data, columns=[self.outputCol])\n",
    "        #print(scaled_data_pandas.shape[0])\n",
    "        scaled_data_df = spark.createDataFrame(scaled_data_pandas, [self.outputCol])\n",
    "        scaled_data_df.count()\n",
    "        scaled_data_df = scaled_data_df.withColumn(\"row_id\",monotonically_increasing_id())\n",
    "        df = df.withColumn(\"row_id\",monotonically_increasing_id())\n",
    "        df.show(60)\n",
    "        #print(scaled_data_df.count())\n",
    "        #print(scaled_data_df.count())\n",
    "        #print(\"( %d , %d , %d)\"%(input_data.shape[0],input_data.shape[1],input_data.shape[2]))\n",
    "        df = df.join(scaled_data_df, (\"row_id\")).drop(\"row_id\")\n",
    "        #result_df.show(60)\n",
    "        #print(df.count())\n",
    "        #print(output)\n",
    "        \n",
    "        return  df\n",
    "        #return output\n",
    "\n",
    "\n",
    "\n"
   ]
  },
  {
   "cell_type": "markdown",
   "metadata": {},
   "source": [
    "**Select Features**"
   ]
  },
  {
   "cell_type": "code",
   "execution_count": 3,
   "metadata": {},
   "outputs": [],
   "source": [
    "# Helper function to select features to scale given their skew\n",
    "def select_features_to_scale(df, drop_cols=['timestamp','id']):\n",
    "    \n",
    "    # Empty Selected Feature List for Output\n",
    "    selected_features = []\n",
    "    \n",
    "    \n",
    "    # Select Features to Scale based on Inputs ('in32' type, drop 'ID' columns or others, skew bounds)\n",
    "    feature_list = list(df.toPandas().columns.drop(drop_cols))\n",
    "    \n",
    "    # Loop through 'feature_list' to select features based on Kurtosis / Skew\n",
    "    for feature in feature_list:\n",
    "\n",
    "        selected_features.append(feature)\n",
    "        #if df.toPandas()[feature].kurtosis() < -2 or df.toPandas()[feature].kurtosis() > 2:\n",
    "            \n",
    "            \n",
    "    \n",
    "    # Return feature list to scale\n",
    "    return selected_features"
   ]
  },
  {
   "cell_type": "markdown",
   "metadata": {},
   "source": [
    "**Read RDS CPU utilization dataset**"
   ]
  },
  {
   "cell_type": "code",
   "execution_count": 4,
   "metadata": {},
   "outputs": [
    {
     "name": "stdout",
     "output_type": "stream",
     "text": [
      "CPU times: user 35.9 ms, sys: 18.3 ms, total: 54.3 ms\n",
      "Wall time: 12.8 s\n"
     ]
    }
   ],
   "source": [
    "%%time\n",
    "\n",
    "\n",
    "df = spark.read.csv(\"hdfs://master:9000/user/data/rds_cpu_utilization_e47b3b.csv\", inferSchema=True, header=True)\n",
    "# inferSchema referring to the type of the column\n",
    "Data = df.collect()\n",
    "Orgin_data = []\n",
    "\n",
    "df = df.withColumn(\"id\",monotonically_increasing_id())\n",
    "\n",
    "for i in Data:\n",
    "    Orgin_data.append(i[1])\n",
    "    \n"
   ]
  },
  {
   "cell_type": "markdown",
   "metadata": {},
   "source": [
    "**Define Pipeline Stages**"
   ]
  },
  {
   "cell_type": "code",
   "execution_count": 5,
   "metadata": {},
   "outputs": [
    {
     "name": "stdout",
     "output_type": "stream",
     "text": [
      "Load model...\n",
      "Done\n"
     ]
    }
   ],
   "source": [
    "stages = []\n",
    "pred_value = []\n",
    "unscaled_features = select_features_to_scale(df=df)\n",
    "#stage\n",
    "unscaled_assembler = VectorAssembler(inputCols=unscaled_features, outputCol=\"unscaled_features\")\n",
    "scaler = MinMaxScaler(min=0.0, max=1.0, inputCol=\"unscaled_features\", outputCol=\"scaled_features\")\n",
    "#scaler = MyRobust(inputCol=\"unscaled_features\", outputCol=\"scaled_features\")\n",
    "pred = ModelPredict(inputCol=\"scaled_features\",outputCol=\"pred_value\")\n",
    "\n",
    "\n",
    "\n",
    "stages += [unscaled_assembler, scaler, pred]"
   ]
  },
  {
   "cell_type": "markdown",
   "metadata": {},
   "source": [
    "**Fit Dataframe and Transform another Dataframe**"
   ]
  },
  {
   "cell_type": "code",
   "execution_count": 6,
   "metadata": {},
   "outputs": [],
   "source": [
    "def get_scaler(orgin_list):\n",
    "    orgin_array = np.array(orgin_list)\n",
    "    data_scaler_minmax = preprocessing.MinMaxScaler(feature_range=(0, 1))\n",
    "    data_scaled_minmax = data_scaler_minmax.fit_transform(orgin_array[:,1:2])\n",
    "    \n",
    "    return data_scaler_minmax\n",
    "\n",
    "def inverse_data(df_transform,win_scaler):\n",
    "    return win_scaler.inverse_transform(df_transform)\n"
   ]
  },
  {
   "cell_type": "code",
   "execution_count": null,
   "metadata": {
    "scrolled": true
   },
   "outputs": [
    {
     "name": "stdout",
     "output_type": "stream",
     "text": [
      "0.Pred_value : [[13.860018]]\n",
      "0.Diff_value : [0.]\n",
      "1.Pred_value : [[13.831706]]\n",
      "1.Diff_value : [0.02831173]\n",
      "2.Pred_value : [[13.798212]]\n",
      "2.Diff_value : [0.033494]\n",
      "3.Pred_value : [[13.767983]]\n",
      "3.Diff_value : [0.03022861]\n",
      "4.Pred_value : [[13.769469]]\n",
      "4.Diff_value : [0.00148582]\n",
      "5.Pred_value : [[13.788784]]\n",
      "5.Diff_value : [0.01931477]\n",
      "6.Pred_value : [[13.761993]]\n",
      "6.Diff_value : [0.02679062]\n",
      "7.Pred_value : [[13.766116]]\n",
      "7.Diff_value : [0.00412273]\n",
      "8.Pred_value : [[13.787139]]\n",
      "8.Diff_value : [0.0210228]\n"
     ]
    }
   ],
   "source": [
    "pipeline = Pipeline(stages=stages)\n",
    "diff_data_list = []\n",
    "pred_value = []\n",
    "for i in range(0,df.count()-60):\n",
    "    window_df = df.filter(df.id.between(i,i+60-1))\n",
    "    test = window_df.collect()\n",
    "    \n",
    "    \n",
    "    window_scaler = get_scaler(test)\n",
    "    #print(pred_time['timestamp'].show())\n",
    "    #print(test[-1][0] + datetime.timedelta(minutes= 3))\n",
    "    # Set Pipeline\n",
    "    pred_time = test[-1][0] + datetime.timedelta(minutes= 3)\n",
    "    #print(window_df.count())\n",
    "    # Fit Pipeline to Data\n",
    "    pipeline_model = pipeline.fit(window_df)\n",
    "\n",
    "    # Transform Data using Fitted Pipeline\n",
    "    df_transform = pipeline_model.transform(window_df)\n",
    "    df_transform = inverse_data(df_transform,window_scaler)\n",
    "    print(\"{}.Pred_value : {}\".format(i,df_transform))\n",
    "    df_transform = np.reshape(df_transform,(df_transform.shape[0]))\n",
    "    pred_value.append(df_transform)\n",
    "    diff_data = abs(df_transform-pred_value[i-1])\n",
    "    diff_data_list.append(diff_data)\n",
    "    print(\"{}.Diff_value : {}\".format(i,diff_data))\n",
    "    if diff_data >= 1:\n",
    "        print(\"Warning : time:{} value:{}\".format(pred_time,diff_data))"
   ]
  },
  {
   "cell_type": "markdown",
   "metadata": {},
   "source": [
    "**Plot data**"
   ]
  },
  {
   "cell_type": "code",
   "execution_count": 18,
   "metadata": {},
   "outputs": [],
   "source": [
    "from IPython.core.pylabtools import figsize\n",
    "figsize(13, 7) "
   ]
  },
  {
   "cell_type": "code",
   "execution_count": 19,
   "metadata": {},
   "outputs": [
    {
     "data": {
      "text/plain": [
       "<matplotlib.legend.Legend at 0x7ff4e9e30190>"
      ]
     },
     "execution_count": 19,
     "metadata": {},
     "output_type": "execute_result"
    },
    {
     "data": {
      "image/png": "[encoded data removed]",
      "text/plain": [
       "<Figure size 936x504 with 1 Axes>"
      ]
     },
     "metadata": {
      "needs_background": "light"
     },
     "output_type": "display_data"
    }
   ],
   "source": [
    "plt.plot(diff_data_list,color = 'blue', label = 'Diff. value')\n",
    "plt.xlabel('Sequence')\n",
    "plt.ylabel('Diff. Value')\n",
    "plt.legend()"
   ]
  },
  {
   "cell_type": "code",
   "execution_count": 16,
   "metadata": {},
   "outputs": [
    {
     "data": {
      "text/plain": [
       "<matplotlib.legend.Legend at 0x7ff4ea04b190>"
      ]
     },
     "execution_count": 16,
     "metadata": {},
     "output_type": "execute_result"
    },
    {
     "data": {
      "image/png": "[encoded data removed]",
      "text/plain": [
       "<Figure size 936x504 with 1 Axes>"
      ]
     },
     "metadata": {
      "needs_background": "light"
     },
     "output_type": "display_data"
    }
   ],
   "source": [
    "from matplotlib.animation import FuncAnimation\n",
    "\n",
    "plt.plot(Orgin_data[60:],color = 'red', label = 'Real CPU Used')\n",
    "plt.plot(pred_value,color = 'blue', label = 'Predicted CPU Used')\n",
    "plt.xlabel('Sequence')\n",
    "plt.ylabel('24H Detection Trend Values')\n",
    "plt.legend()"
   ]
  },
  {
   "cell_type": "code",
   "execution_count": 361,
   "metadata": {},
   "outputs": [
    {
     "name": "stderr",
     "output_type": "stream",
     "text": [
      "MovieWriter ffmpeg unavailable; using Pillow instead.\n"
     ]
    },
    {
     "data": {
      "image/png": "[encoded data removed]",
      "text/plain": [
       "<Figure size 1152x216 with 1 Axes>"
      ]
     },
     "metadata": {
      "needs_background": "light"
     },
     "output_type": "display_data"
    }
   ],
   "source": [
    "from matplotlib.animation import FuncAnimation\n",
    "\n",
    "x = []\n",
    "y = []\n",
    "\n",
    "figure, ax = plt.subplots(figsize=(16,3))\n",
    "\n",
    "\n",
    "\n",
    "\n",
    "def func_animate(i):\n",
    "    \n",
    "    ax.plot(Orgin_data[i])\n",
    "    \n",
    "    \n",
    "    return ax,\n",
    "\n",
    "\n",
    "\n",
    "ani = FuncAnimation(figure,\n",
    "                    func_animate,\n",
    "                    frames=4000,\n",
    "                    interval=50)\n",
    "\n",
    "ani.save(r'animation.gif', fps=10)\n",
    "\n",
    "plt.show()\n"
   ]
  },
  {
   "cell_type": "code",
   "execution_count": 88,
   "metadata": {},
   "outputs": [],
   "source": [
    "df_transform_fin = df_transform.select('scaled_features')"
   ]
  },
  {
   "cell_type": "code",
   "execution_count": 89,
   "metadata": {},
   "outputs": [
    {
     "data": {
      "text/plain": [
       "DataFrame[scaled_features: vector]"
      ]
     },
     "execution_count": 89,
     "metadata": {},
     "output_type": "execute_result"
    }
   ],
   "source": [
    "df_transform_fin"
   ]
  }
 ],
 "metadata": {
  "kernelspec": {
   "display_name": "Python 3",
   "language": "python",
   "name": "python3"
  },
  "language_info": {
   "codemirror_mode": {
    "name": "ipython",
    "version": 3
   },
   "file_extension": ".py",
   "mimetype": "text/x-python",
   "name": "python",
   "nbconvert_exporter": "python",
   "pygments_lexer": "ipython3",
   "version": "3.7.9"
  }
 },
 "nbformat": 4,
 "nbformat_minor": 4
}
