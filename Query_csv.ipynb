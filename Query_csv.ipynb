{
 "cells": [
  {
   "cell_type": "code",
   "execution_count": 3,
   "metadata": {},
   "outputs": [
    {
     "name": "stdout",
     "output_type": "stream",
     "text": [
      "+----------+--------+---------------+-------+\n",
      "|      Date|    time|Allocate memory|  %used|\n",
      "+----------+--------+---------------+-------+\n",
      "|2020/11/30|23:57:45|     1606751865|31.6945|\n",
      "|2020/11/30|23:54:46|     1606751686|31.9328|\n",
      "|2020/11/30|23:51:45|     1606751505|32.8929|\n",
      "|2020/11/30|23:48:45|     1606751325|34.5618|\n",
      "|2020/11/30|23:45:45|     1606751145|  32.14|\n",
      "+----------+--------+---------------+-------+\n",
      "only showing top 5 rows\n",
      "\n"
     ]
    }
   ],
   "source": [
    "testDF = spark.read.csv(\"hdfs://master:9000/user/data/ATKH_Oplus_TWGKHHPSK1MSB04_memory_usage_2020_11.csv\", inferSchema=True, header=True)\n",
    "# inferSchema referring to the type of the column\n",
    "testDF.show(5)"
   ]
  },
  {
   "cell_type": "code",
   "execution_count": 4,
   "metadata": {},
   "outputs": [
    {
     "name": "stdout",
     "output_type": "stream",
     "text": [
      "root\n",
      " |-- Date: string (nullable = true)\n",
      " |-- time: string (nullable = true)\n",
      " |-- Allocate memory: integer (nullable = true)\n",
      " |-- %used: double (nullable = true)\n",
      "\n"
     ]
    }
   ],
   "source": [
    "testDF.printSchema()"
   ]
  }
 ],
 "metadata": {
  "kernelspec": {
   "display_name": "Python 3",
   "language": "python",
   "name": "python3"
  },
  "language_info": {
   "codemirror_mode": {
    "name": "ipython",
    "version": 3
   },
   "file_extension": ".py",
   "mimetype": "text/x-python",
   "name": "python",
   "nbconvert_exporter": "python",
   "pygments_lexer": "ipython3",
   "version": "3.7.9"
  }
 },
 "nbformat": 4,
 "nbformat_minor": 4
}
