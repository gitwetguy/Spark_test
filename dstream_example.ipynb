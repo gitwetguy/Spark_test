{
 "cells": [
  {
   "cell_type": "code",
   "execution_count": null,
   "metadata": {},
   "outputs": [],
   "source": [
    "from pyspark.streaming import StreamingContext\n",
    "ssc = StreamingContext(sc, 1)\n",
    "lines = ssc.textFileStream(\"file://home/master/spark_test/Spark_test\")\n",
    "words = lines.flatMap(lambda line: line.split(\" \"))\n",
    "pairs = words.map(lambda word: (word, 1))\n",
    "wordCounts = pairs.reduceByKey(lambda x, y: x + y)\n",
    "wordCounts.pprint()\n",
    "ssc.start()\n",
    "ssc.awaitTermination()"
   ]
  },
  {
   "cell_type": "code",
   "execution_count": null,
   "metadata": {},
   "outputs": [],
   "source": [
    "import time\n",
    "\n",
    "#from pyspark import SparkContext\n",
    "from pyspark . streaming import StreamingContext\n",
    "\n",
    "if __name__ == \"__main__\" :\n",
    "      sc = SparkContext ( appName = \"PythonStreamingQueueStream\" )\n",
    "      ssc = StreamingContext ( sc , 2 )\n",
    "\n",
    "      # Create the queue through which RDDs can be pushed to\n",
    "      # a QueueInputDStream\n",
    "      rddQueue = []\n",
    "      for i in range ( 5 ):\n",
    "            rddQueue += [ ssc . sparkContext . parallelize ([ j for j in range ( 1 , 1001 )], 10 )]\n",
    "            time . sleep ( 1 )\n",
    "\n",
    "      # Create the QueueInputDStream and use it do some processing\n",
    "      inputStream = ssc . queueStream ( rddQueue )\n",
    "      mappedStream = inputStream . map ( lambda x : ( x % 10 , 1 ))\n",
    "      reducedStream = mappedStream . reduceByKey ( lambda a , b : a + b )\n",
    "      reducedStream . pprint ()\n",
    "\n",
    "      ssc . start ()\n",
    "      ssc . stop ( stopSparkContext = True , stopGraceFully = True )"
   ]
  }
 ],
 "metadata": {
  "kernelspec": {
   "display_name": "Python 3",
   "language": "python",
   "name": "python3"
  },
  "language_info": {
   "codemirror_mode": {
    "name": "ipython",
    "version": 3
   },
   "file_extension": ".py",
   "mimetype": "text/x-python",
   "name": "python",
   "nbconvert_exporter": "python",
   "pygments_lexer": "ipython3",
   "version": "3.7.9"
  }
 },
 "nbformat": 4,
 "nbformat_minor": 4
}
