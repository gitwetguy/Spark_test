{
 "cells": [
  {
   "cell_type": "markdown",
   "metadata": {},
   "source": [
    "Download data: \n",
    "https://www.gov.uk/government/statistical-data-sets/price-paid-data-downloads#single-file"
   ]
  },
  {
   "cell_type": "code",
   "execution_count": 1,
   "metadata": {},
   "outputs": [
    {
     "data": {
      "application/javascript": [
       "\n",
       "            setTimeout(function() {\n",
       "                var nbb_cell_id = 1;\n",
       "                var nbb_unformatted_code = \"%load_ext nb_black\\nimport numpy as np\\nimport pandas as pd\\nimport sys\\nimport matplotlib.pyplot as plt\\n\\nplt.style.use(style=\\\"seaborn\\\")\\n%matplotlib inline\";\n",
       "                var nbb_formatted_code = \"%load_ext nb_black\\nimport numpy as np\\nimport pandas as pd\\nimport sys\\nimport matplotlib.pyplot as plt\\n\\nplt.style.use(style=\\\"seaborn\\\")\\n%matplotlib inline\";\n",
       "                var nbb_cells = Jupyter.notebook.get_cells();\n",
       "                for (var i = 0; i < nbb_cells.length; ++i) {\n",
       "                    if (nbb_cells[i].input_prompt_number == nbb_cell_id) {\n",
       "                        if (nbb_cells[i].get_text() == nbb_unformatted_code) {\n",
       "                             nbb_cells[i].set_text(nbb_formatted_code);\n",
       "                        }\n",
       "                        break;\n",
       "                    }\n",
       "                }\n",
       "            }, 500);\n",
       "            "
      ],
      "text/plain": [
       "<IPython.core.display.Javascript object>"
      ]
     },
     "metadata": {},
     "output_type": "display_data"
    }
   ],
   "source": [
    "%load_ext nb_black\n",
    "import numpy as np\n",
    "import pandas as pd\n",
    "import sys\n",
    "import matplotlib.pyplot as plt\n",
    "\n",
    "plt.style.use(style=\"seaborn\")\n",
    "%matplotlib inline"
   ]
  },
  {
   "cell_type": "code",
   "execution_count": 2,
   "metadata": {},
   "outputs": [
    {
     "data": {
      "text/html": [
       "\n",
       "            <div>\n",
       "                <p><b>SparkSession - in-memory</b></p>\n",
       "                \n",
       "        <div>\n",
       "            <p><b>SparkContext</b></p>\n",
       "\n",
       "            <p><a href=\"http://192.168.0.40:4040\">Spark UI</a></p>\n",
       "\n",
       "            <dl>\n",
       "              <dt>Version</dt>\n",
       "                <dd><code>v3.0.1</code></dd>\n",
       "              <dt>Master</dt>\n",
       "                <dd><code>local[*]</code></dd>\n",
       "              <dt>AppName</dt>\n",
       "                <dd><code>UK Property Analysis</code></dd>\n",
       "            </dl>\n",
       "        </div>\n",
       "        \n",
       "            </div>\n",
       "        "
      ],
      "text/plain": [
       "<pyspark.sql.session.SparkSession at 0x7fcc321114e0>"
      ]
     },
     "execution_count": 2,
     "metadata": {},
     "output_type": "execute_result"
    },
    {
     "data": {
      "application/javascript": [
       "\n",
       "            setTimeout(function() {\n",
       "                var nbb_cell_id = 2;\n",
       "                var nbb_unformatted_code = \"from pyspark.sql import SparkSession, Window\\nfrom pyspark import SparkConf\\nimport pyspark.sql.functions as F\\nfrom pyspark.sql import types as T\\n\\nspark = SparkSession.builder.appName(\\\"UK Property Analysis\\\").getOrCreate()\\nspark\";\n",
       "                var nbb_formatted_code = \"from pyspark.sql import SparkSession, Window\\nfrom pyspark import SparkConf\\nimport pyspark.sql.functions as F\\nfrom pyspark.sql import types as T\\n\\nspark = SparkSession.builder.appName(\\\"UK Property Analysis\\\").getOrCreate()\\nspark\";\n",
       "                var nbb_cells = Jupyter.notebook.get_cells();\n",
       "                for (var i = 0; i < nbb_cells.length; ++i) {\n",
       "                    if (nbb_cells[i].input_prompt_number == nbb_cell_id) {\n",
       "                        if (nbb_cells[i].get_text() == nbb_unformatted_code) {\n",
       "                             nbb_cells[i].set_text(nbb_formatted_code);\n",
       "                        }\n",
       "                        break;\n",
       "                    }\n",
       "                }\n",
       "            }, 500);\n",
       "            "
      ],
      "text/plain": [
       "<IPython.core.display.Javascript object>"
      ]
     },
     "metadata": {},
     "output_type": "display_data"
    }
   ],
   "source": [
    "from pyspark.sql import SparkSession, Window\n",
    "from pyspark import SparkConf\n",
    "import pyspark.sql.functions as F\n",
    "from pyspark.sql import types as T\n",
    "\n",
    "spark = SparkSession.builder.appName(\"UK Property Analysis\").getOrCreate()\n",
    "spark"
   ]
  },
  {
   "cell_type": "code",
   "execution_count": 3,
   "metadata": {},
   "outputs": [
    {
     "data": {
      "application/javascript": [
       "\n",
       "            setTimeout(function() {\n",
       "                var nbb_cell_id = 3;\n",
       "                var nbb_unformatted_code = \"data = spark.read.csv(\\\"files/12-2020/pp-complete.csv\\\", inferSchema=True, header=True)\";\n",
       "                var nbb_formatted_code = \"data = spark.read.csv(\\\"files/12-2020/pp-complete.csv\\\", inferSchema=True, header=True)\";\n",
       "                var nbb_cells = Jupyter.notebook.get_cells();\n",
       "                for (var i = 0; i < nbb_cells.length; ++i) {\n",
       "                    if (nbb_cells[i].input_prompt_number == nbb_cell_id) {\n",
       "                        if (nbb_cells[i].get_text() == nbb_unformatted_code) {\n",
       "                             nbb_cells[i].set_text(nbb_formatted_code);\n",
       "                        }\n",
       "                        break;\n",
       "                    }\n",
       "                }\n",
       "            }, 500);\n",
       "            "
      ],
      "text/plain": [
       "<IPython.core.display.Javascript object>"
      ]
     },
     "metadata": {},
     "output_type": "display_data"
    }
   ],
   "source": [
    "data = spark.read.csv(\"files/12-2020/pp-complete.csv\", inferSchema=True, header=True)"
   ]
  },
  {
   "cell_type": "code",
   "execution_count": 4,
   "metadata": {},
   "outputs": [
    {
     "data": {
      "text/plain": [
       "25598290"
      ]
     },
     "execution_count": 4,
     "metadata": {},
     "output_type": "execute_result"
    },
    {
     "data": {
      "application/javascript": [
       "\n",
       "            setTimeout(function() {\n",
       "                var nbb_cell_id = 4;\n",
       "                var nbb_unformatted_code = \"data.count()\";\n",
       "                var nbb_formatted_code = \"data.count()\";\n",
       "                var nbb_cells = Jupyter.notebook.get_cells();\n",
       "                for (var i = 0; i < nbb_cells.length; ++i) {\n",
       "                    if (nbb_cells[i].input_prompt_number == nbb_cell_id) {\n",
       "                        if (nbb_cells[i].get_text() == nbb_unformatted_code) {\n",
       "                             nbb_cells[i].set_text(nbb_formatted_code);\n",
       "                        }\n",
       "                        break;\n",
       "                    }\n",
       "                }\n",
       "            }, 500);\n",
       "            "
      ],
      "text/plain": [
       "<IPython.core.display.Javascript object>"
      ]
     },
     "metadata": {},
     "output_type": "display_data"
    }
   ],
   "source": [
    "data.count()"
   ]
  },
  {
   "cell_type": "code",
   "execution_count": 5,
   "metadata": {},
   "outputs": [
    {
     "data": {
      "application/javascript": [
       "\n",
       "            setTimeout(function() {\n",
       "                var nbb_cell_id = 5;\n",
       "                var nbb_unformatted_code = \"data = data.toDF(\\n    \\\"Transaction ID\\\",\\n    \\\"Price\\\",\\n    \\\"Date\\\",\\n    \\\"Postcode\\\",\\n    \\\"Property Type\\\",\\n    \\\"New Build\\\",\\n    \\\"Estate Type\\\",\\n    \\\"Building Name/Nr\\\",\\n    \\\"Column_8\\\",\\n    \\\"Street\\\",\\n    \\\"Column_10\\\",\\n    \\\"Town\\\",\\n    \\\"District\\\",\\n    \\\"County\\\",\\n    \\\"Column_14\\\",\\n    \\\"Column_15\\\",\\n)\";\n",
       "                var nbb_formatted_code = \"data = data.toDF(\\n    \\\"Transaction ID\\\",\\n    \\\"Price\\\",\\n    \\\"Date\\\",\\n    \\\"Postcode\\\",\\n    \\\"Property Type\\\",\\n    \\\"New Build\\\",\\n    \\\"Estate Type\\\",\\n    \\\"Building Name/Nr\\\",\\n    \\\"Column_8\\\",\\n    \\\"Street\\\",\\n    \\\"Column_10\\\",\\n    \\\"Town\\\",\\n    \\\"District\\\",\\n    \\\"County\\\",\\n    \\\"Column_14\\\",\\n    \\\"Column_15\\\",\\n)\";\n",
       "                var nbb_cells = Jupyter.notebook.get_cells();\n",
       "                for (var i = 0; i < nbb_cells.length; ++i) {\n",
       "                    if (nbb_cells[i].input_prompt_number == nbb_cell_id) {\n",
       "                        if (nbb_cells[i].get_text() == nbb_unformatted_code) {\n",
       "                             nbb_cells[i].set_text(nbb_formatted_code);\n",
       "                        }\n",
       "                        break;\n",
       "                    }\n",
       "                }\n",
       "            }, 500);\n",
       "            "
      ],
      "text/plain": [
       "<IPython.core.display.Javascript object>"
      ]
     },
     "metadata": {},
     "output_type": "display_data"
    }
   ],
   "source": [
    "data = data.toDF(\n",
    "    \"Transaction ID\",\n",
    "    \"Price\",\n",
    "    \"Date\",\n",
    "    \"Postcode\",\n",
    "    \"Property Type\",\n",
    "    \"New Build\",\n",
    "    \"Estate Type\",\n",
    "    \"Building Name/Nr\",\n",
    "    \"Column_8\",\n",
    "    \"Street\",\n",
    "    \"Column_10\",\n",
    "    \"Town\",\n",
    "    \"District\",\n",
    "    \"County\",\n",
    "    \"Column_14\",\n",
    "    \"Column_15\",\n",
    ")"
   ]
  },
  {
   "cell_type": "code",
   "execution_count": 6,
   "metadata": {},
   "outputs": [
    {
     "name": "stdout",
     "output_type": "stream",
     "text": [
      "+--------------------+-----+----------------+--------+-------------+---------+-----------+----------------+--------+-----------+---------+---------+--------+----------+---------+---------+\n",
      "|      Transaction ID|Price|            Date|Postcode|Property Type|New Build|Estate Type|Building Name/Nr|Column_8|     Street|Column_10|     Town|District|    County|Column_14|Column_15|\n",
      "+--------------------+-----+----------------+--------+-------------+---------+-----------+----------------+--------+-----------+---------+---------+--------+----------+---------+---------+\n",
      "|{1BA349E3-2579-40...|73450|1995-10-09 00:00| L26 7XJ|            D|        Y|          F|               6|    null|CATKIN ROAD|LIVERPOOL|LIVERPOOL|KNOWSLEY|MERSEYSIDE|        A|        A|\n",
      "|{E5B50DCB-BC7A-4E...|59000|1995-03-31 00:00|BH12 2AE|            D|        N|          F|              28|    null| ALDER ROAD|    POOLE|    POOLE|   POOLE|     POOLE|        A|        A|\n",
      "+--------------------+-----+----------------+--------+-------------+---------+-----------+----------------+--------+-----------+---------+---------+--------+----------+---------+---------+\n",
      "only showing top 2 rows\n",
      "\n"
     ]
    },
    {
     "data": {
      "application/javascript": [
       "\n",
       "            setTimeout(function() {\n",
       "                var nbb_cell_id = 6;\n",
       "                var nbb_unformatted_code = \"data.show(2)\";\n",
       "                var nbb_formatted_code = \"data.show(2)\";\n",
       "                var nbb_cells = Jupyter.notebook.get_cells();\n",
       "                for (var i = 0; i < nbb_cells.length; ++i) {\n",
       "                    if (nbb_cells[i].input_prompt_number == nbb_cell_id) {\n",
       "                        if (nbb_cells[i].get_text() == nbb_unformatted_code) {\n",
       "                             nbb_cells[i].set_text(nbb_formatted_code);\n",
       "                        }\n",
       "                        break;\n",
       "                    }\n",
       "                }\n",
       "            }, 500);\n",
       "            "
      ],
      "text/plain": [
       "<IPython.core.display.Javascript object>"
      ]
     },
     "metadata": {},
     "output_type": "display_data"
    }
   ],
   "source": [
    "data.show(2)"
   ]
  },
  {
   "cell_type": "markdown",
   "metadata": {},
   "source": [
    "### Data Resampling"
   ]
  },
  {
   "cell_type": "code",
   "execution_count": 7,
   "metadata": {},
   "outputs": [
    {
     "data": {
      "text/plain": [
       "[('Date', 'string')]"
      ]
     },
     "execution_count": 7,
     "metadata": {},
     "output_type": "execute_result"
    },
    {
     "data": {
      "application/javascript": [
       "\n",
       "            setTimeout(function() {\n",
       "                var nbb_cell_id = 7;\n",
       "                var nbb_unformatted_code = \"data.select(\\\"Date\\\").dtypes\";\n",
       "                var nbb_formatted_code = \"data.select(\\\"Date\\\").dtypes\";\n",
       "                var nbb_cells = Jupyter.notebook.get_cells();\n",
       "                for (var i = 0; i < nbb_cells.length; ++i) {\n",
       "                    if (nbb_cells[i].input_prompt_number == nbb_cell_id) {\n",
       "                        if (nbb_cells[i].get_text() == nbb_unformatted_code) {\n",
       "                             nbb_cells[i].set_text(nbb_formatted_code);\n",
       "                        }\n",
       "                        break;\n",
       "                    }\n",
       "                }\n",
       "            }, 500);\n",
       "            "
      ],
      "text/plain": [
       "<IPython.core.display.Javascript object>"
      ]
     },
     "metadata": {},
     "output_type": "display_data"
    }
   ],
   "source": [
    "data.select(\"Date\").dtypes"
   ]
  },
  {
   "cell_type": "code",
   "execution_count": 8,
   "metadata": {},
   "outputs": [
    {
     "data": {
      "text/plain": [
       "[Row(Date='1995-10-09 00:00')]"
      ]
     },
     "execution_count": 8,
     "metadata": {},
     "output_type": "execute_result"
    },
    {
     "data": {
      "application/javascript": [
       "\n",
       "            setTimeout(function() {\n",
       "                var nbb_cell_id = 8;\n",
       "                var nbb_unformatted_code = \"data.select(\\\"Date\\\").take(1)\";\n",
       "                var nbb_formatted_code = \"data.select(\\\"Date\\\").take(1)\";\n",
       "                var nbb_cells = Jupyter.notebook.get_cells();\n",
       "                for (var i = 0; i < nbb_cells.length; ++i) {\n",
       "                    if (nbb_cells[i].input_prompt_number == nbb_cell_id) {\n",
       "                        if (nbb_cells[i].get_text() == nbb_unformatted_code) {\n",
       "                             nbb_cells[i].set_text(nbb_formatted_code);\n",
       "                        }\n",
       "                        break;\n",
       "                    }\n",
       "                }\n",
       "            }, 500);\n",
       "            "
      ],
      "text/plain": [
       "<IPython.core.display.Javascript object>"
      ]
     },
     "metadata": {},
     "output_type": "display_data"
    }
   ],
   "source": [
    "data.select(\"Date\").take(1)"
   ]
  },
  {
   "cell_type": "code",
   "execution_count": 9,
   "metadata": {},
   "outputs": [
    {
     "data": {
      "application/javascript": [
       "\n",
       "            setTimeout(function() {\n",
       "                var nbb_cell_id = 9;\n",
       "                var nbb_unformatted_code = \"data = data.withColumn(\\\"Date\\\", F.to_timestamp(data.Date, \\\"yyyy-MM-dd 00:00\\\"))\";\n",
       "                var nbb_formatted_code = \"data = data.withColumn(\\\"Date\\\", F.to_timestamp(data.Date, \\\"yyyy-MM-dd 00:00\\\"))\";\n",
       "                var nbb_cells = Jupyter.notebook.get_cells();\n",
       "                for (var i = 0; i < nbb_cells.length; ++i) {\n",
       "                    if (nbb_cells[i].input_prompt_number == nbb_cell_id) {\n",
       "                        if (nbb_cells[i].get_text() == nbb_unformatted_code) {\n",
       "                             nbb_cells[i].set_text(nbb_formatted_code);\n",
       "                        }\n",
       "                        break;\n",
       "                    }\n",
       "                }\n",
       "            }, 500);\n",
       "            "
      ],
      "text/plain": [
       "<IPython.core.display.Javascript object>"
      ]
     },
     "metadata": {},
     "output_type": "display_data"
    }
   ],
   "source": [
    "data = data.withColumn(\"Date\", F.to_timestamp(data.Date, \"yyyy-MM-dd 00:00\"))"
   ]
  },
  {
   "cell_type": "code",
   "execution_count": 10,
   "metadata": {},
   "outputs": [
    {
     "data": {
      "text/plain": [
       "[('Price', 'int')]"
      ]
     },
     "execution_count": 10,
     "metadata": {},
     "output_type": "execute_result"
    },
    {
     "data": {
      "application/javascript": [
       "\n",
       "            setTimeout(function() {\n",
       "                var nbb_cell_id = 10;\n",
       "                var nbb_unformatted_code = \"data.select(\\\"Price\\\").dtypes\";\n",
       "                var nbb_formatted_code = \"data.select(\\\"Price\\\").dtypes\";\n",
       "                var nbb_cells = Jupyter.notebook.get_cells();\n",
       "                for (var i = 0; i < nbb_cells.length; ++i) {\n",
       "                    if (nbb_cells[i].input_prompt_number == nbb_cell_id) {\n",
       "                        if (nbb_cells[i].get_text() == nbb_unformatted_code) {\n",
       "                             nbb_cells[i].set_text(nbb_formatted_code);\n",
       "                        }\n",
       "                        break;\n",
       "                    }\n",
       "                }\n",
       "            }, 500);\n",
       "            "
      ],
      "text/plain": [
       "<IPython.core.display.Javascript object>"
      ]
     },
     "metadata": {},
     "output_type": "display_data"
    }
   ],
   "source": [
    "data.select(\"Price\").dtypes"
   ]
  },
  {
   "cell_type": "code",
   "execution_count": 11,
   "metadata": {},
   "outputs": [
    {
     "data": {
      "application/javascript": [
       "\n",
       "            setTimeout(function() {\n",
       "                var nbb_cell_id = 11;\n",
       "                var nbb_unformatted_code = \"data = data.withColumn(\\\"Price\\\", data.Price.cast(\\\"float\\\"))\";\n",
       "                var nbb_formatted_code = \"data = data.withColumn(\\\"Price\\\", data.Price.cast(\\\"float\\\"))\";\n",
       "                var nbb_cells = Jupyter.notebook.get_cells();\n",
       "                for (var i = 0; i < nbb_cells.length; ++i) {\n",
       "                    if (nbb_cells[i].input_prompt_number == nbb_cell_id) {\n",
       "                        if (nbb_cells[i].get_text() == nbb_unformatted_code) {\n",
       "                             nbb_cells[i].set_text(nbb_formatted_code);\n",
       "                        }\n",
       "                        break;\n",
       "                    }\n",
       "                }\n",
       "            }, 500);\n",
       "            "
      ],
      "text/plain": [
       "<IPython.core.display.Javascript object>"
      ]
     },
     "metadata": {},
     "output_type": "display_data"
    }
   ],
   "source": [
    "data = data.withColumn(\"Price\", data.Price.cast(\"float\"))"
   ]
  },
  {
   "cell_type": "code",
   "execution_count": 12,
   "metadata": {
    "scrolled": true
   },
   "outputs": [
    {
     "data": {
      "text/plain": [
       "[Row(Date=datetime.datetime(1995, 10, 9, 0, 0))]"
      ]
     },
     "execution_count": 12,
     "metadata": {},
     "output_type": "execute_result"
    },
    {
     "data": {
      "application/javascript": [
       "\n",
       "            setTimeout(function() {\n",
       "                var nbb_cell_id = 12;\n",
       "                var nbb_unformatted_code = \"data.select(\\\"Date\\\").take(1)\";\n",
       "                var nbb_formatted_code = \"data.select(\\\"Date\\\").take(1)\";\n",
       "                var nbb_cells = Jupyter.notebook.get_cells();\n",
       "                for (var i = 0; i < nbb_cells.length; ++i) {\n",
       "                    if (nbb_cells[i].input_prompt_number == nbb_cell_id) {\n",
       "                        if (nbb_cells[i].get_text() == nbb_unformatted_code) {\n",
       "                             nbb_cells[i].set_text(nbb_formatted_code);\n",
       "                        }\n",
       "                        break;\n",
       "                    }\n",
       "                }\n",
       "            }, 500);\n",
       "            "
      ],
      "text/plain": [
       "<IPython.core.display.Javascript object>"
      ]
     },
     "metadata": {},
     "output_type": "display_data"
    }
   ],
   "source": [
    "data.select(\"Date\").take(1)"
   ]
  },
  {
   "cell_type": "code",
   "execution_count": 13,
   "metadata": {},
   "outputs": [
    {
     "data": {
      "application/javascript": [
       "\n",
       "            setTimeout(function() {\n",
       "                var nbb_cell_id = 13;\n",
       "                var nbb_unformatted_code = \"assert data.groupBy(\\\"Transaction ID\\\").count().count() == data.count()\";\n",
       "                var nbb_formatted_code = \"assert data.groupBy(\\\"Transaction ID\\\").count().count() == data.count()\";\n",
       "                var nbb_cells = Jupyter.notebook.get_cells();\n",
       "                for (var i = 0; i < nbb_cells.length; ++i) {\n",
       "                    if (nbb_cells[i].input_prompt_number == nbb_cell_id) {\n",
       "                        if (nbb_cells[i].get_text() == nbb_unformatted_code) {\n",
       "                             nbb_cells[i].set_text(nbb_formatted_code);\n",
       "                        }\n",
       "                        break;\n",
       "                    }\n",
       "                }\n",
       "            }, 500);\n",
       "            "
      ],
      "text/plain": [
       "<IPython.core.display.Javascript object>"
      ]
     },
     "metadata": {},
     "output_type": "display_data"
    }
   ],
   "source": [
    "assert data.groupBy(\"Transaction ID\").count().count() == data.count()"
   ]
  },
  {
   "cell_type": "code",
   "execution_count": 14,
   "metadata": {},
   "outputs": [
    {
     "data": {
      "application/javascript": [
       "\n",
       "            setTimeout(function() {\n",
       "                var nbb_cell_id = 14;\n",
       "                var nbb_unformatted_code = \"sub = data.groupBy(\\\"Date\\\", F.window(\\\"Date\\\", \\\"30 days\\\")).agg(\\n    F.expr(\\\"collect_list(Price)\\\").alias(\\\"Prices\\\"),\\n    F.expr(\\\"count('Transaction ID')\\\").alias(\\\"Count\\\"),\\n)\";\n",
       "                var nbb_formatted_code = \"sub = data.groupBy(\\\"Date\\\", F.window(\\\"Date\\\", \\\"30 days\\\")).agg(\\n    F.expr(\\\"collect_list(Price)\\\").alias(\\\"Prices\\\"),\\n    F.expr(\\\"count('Transaction ID')\\\").alias(\\\"Count\\\"),\\n)\";\n",
       "                var nbb_cells = Jupyter.notebook.get_cells();\n",
       "                for (var i = 0; i < nbb_cells.length; ++i) {\n",
       "                    if (nbb_cells[i].input_prompt_number == nbb_cell_id) {\n",
       "                        if (nbb_cells[i].get_text() == nbb_unformatted_code) {\n",
       "                             nbb_cells[i].set_text(nbb_formatted_code);\n",
       "                        }\n",
       "                        break;\n",
       "                    }\n",
       "                }\n",
       "            }, 500);\n",
       "            "
      ],
      "text/plain": [
       "<IPython.core.display.Javascript object>"
      ]
     },
     "metadata": {},
     "output_type": "display_data"
    }
   ],
   "source": [
    "sub = data.groupBy(\"Date\", F.window(\"Date\", \"30 days\")).agg(\n",
    "    F.expr(\"collect_list(Price)\").alias(\"Prices\"),\n",
    "    F.expr(\"count('Transaction ID')\").alias(\"Count\"),\n",
    ")"
   ]
  },
  {
   "cell_type": "code",
   "execution_count": 15,
   "metadata": {},
   "outputs": [
    {
     "name": "stdout",
     "output_type": "stream",
     "text": [
      "+-------------------+--------------------+--------------------+-----+\n",
      "|               Date|              window|              Prices|Count|\n",
      "+-------------------+--------------------+--------------------+-----+\n",
      "|1995-07-21 00:00:00|[1995-07-19 01:00...|[160000.0, 13000....| 7780|\n",
      "|1995-09-21 00:00:00|[1995-09-17 01:00...|[60000.0, 42500.0...| 1436|\n",
      "+-------------------+--------------------+--------------------+-----+\n",
      "only showing top 2 rows\n",
      "\n"
     ]
    },
    {
     "data": {
      "application/javascript": [
       "\n",
       "            setTimeout(function() {\n",
       "                var nbb_cell_id = 15;\n",
       "                var nbb_unformatted_code = \"sub.show(2)\";\n",
       "                var nbb_formatted_code = \"sub.show(2)\";\n",
       "                var nbb_cells = Jupyter.notebook.get_cells();\n",
       "                for (var i = 0; i < nbb_cells.length; ++i) {\n",
       "                    if (nbb_cells[i].input_prompt_number == nbb_cell_id) {\n",
       "                        if (nbb_cells[i].get_text() == nbb_unformatted_code) {\n",
       "                             nbb_cells[i].set_text(nbb_formatted_code);\n",
       "                        }\n",
       "                        break;\n",
       "                    }\n",
       "                }\n",
       "            }, 500);\n",
       "            "
      ],
      "text/plain": [
       "<IPython.core.display.Javascript object>"
      ]
     },
     "metadata": {},
     "output_type": "display_data"
    }
   ],
   "source": [
    "sub.show(2)"
   ]
  },
  {
   "cell_type": "code",
   "execution_count": 16,
   "metadata": {},
   "outputs": [
    {
     "data": {
      "text/plain": [
       "[Row(window=Row(start=datetime.datetime(1995, 9, 17, 1, 0), end=datetime.datetime(1995, 10, 17, 1, 0)))]"
      ]
     },
     "execution_count": 16,
     "metadata": {},
     "output_type": "execute_result"
    },
    {
     "data": {
      "application/javascript": [
       "\n",
       "            setTimeout(function() {\n",
       "                var nbb_cell_id = 16;\n",
       "                var nbb_unformatted_code = \"sub.select(\\\"window\\\").take(1)\";\n",
       "                var nbb_formatted_code = \"sub.select(\\\"window\\\").take(1)\";\n",
       "                var nbb_cells = Jupyter.notebook.get_cells();\n",
       "                for (var i = 0; i < nbb_cells.length; ++i) {\n",
       "                    if (nbb_cells[i].input_prompt_number == nbb_cell_id) {\n",
       "                        if (nbb_cells[i].get_text() == nbb_unformatted_code) {\n",
       "                             nbb_cells[i].set_text(nbb_formatted_code);\n",
       "                        }\n",
       "                        break;\n",
       "                    }\n",
       "                }\n",
       "            }, 500);\n",
       "            "
      ],
      "text/plain": [
       "<IPython.core.display.Javascript object>"
      ]
     },
     "metadata": {},
     "output_type": "display_data"
    }
   ],
   "source": [
    "sub.select(\"window\").take(1)"
   ]
  },
  {
   "cell_type": "code",
   "execution_count": 17,
   "metadata": {},
   "outputs": [
    {
     "data": {
      "application/javascript": [
       "\n",
       "            setTimeout(function() {\n",
       "                var nbb_cell_id = 17;\n",
       "                var nbb_unformatted_code = \"sub = sub.select(\\\"Date\\\", \\\"window.*\\\", \\\"Prices\\\", \\\"Count\\\").sort(F.asc(\\\"end\\\"))\";\n",
       "                var nbb_formatted_code = \"sub = sub.select(\\\"Date\\\", \\\"window.*\\\", \\\"Prices\\\", \\\"Count\\\").sort(F.asc(\\\"end\\\"))\";\n",
       "                var nbb_cells = Jupyter.notebook.get_cells();\n",
       "                for (var i = 0; i < nbb_cells.length; ++i) {\n",
       "                    if (nbb_cells[i].input_prompt_number == nbb_cell_id) {\n",
       "                        if (nbb_cells[i].get_text() == nbb_unformatted_code) {\n",
       "                             nbb_cells[i].set_text(nbb_formatted_code);\n",
       "                        }\n",
       "                        break;\n",
       "                    }\n",
       "                }\n",
       "            }, 500);\n",
       "            "
      ],
      "text/plain": [
       "<IPython.core.display.Javascript object>"
      ]
     },
     "metadata": {},
     "output_type": "display_data"
    }
   ],
   "source": [
    "sub = sub.select(\"Date\", \"window.*\", \"Prices\", \"Count\").sort(F.asc(\"end\"))"
   ]
  },
  {
   "cell_type": "code",
   "execution_count": 18,
   "metadata": {},
   "outputs": [
    {
     "name": "stdout",
     "output_type": "stream",
     "text": [
      "+-------------------+-------------------+-------------------+--------------------+-----+\n",
      "|               Date|              start|                end|              Prices|Count|\n",
      "+-------------------+-------------------+-------------------+--------------------+-----+\n",
      "|1995-01-16 00:00:00|1994-12-21 00:00:00|1995-01-20 00:00:00|[45500.0, 34000.0...| 2035|\n",
      "|1995-01-13 00:00:00|1994-12-21 00:00:00|1995-01-20 00:00:00|[83000.0, 55488.0...| 3053|\n",
      "|1995-01-09 00:00:00|1994-12-21 00:00:00|1995-01-20 00:00:00|[77000.0, 39900.0...| 1380|\n",
      "|1995-01-06 00:00:00|1994-12-21 00:00:00|1995-01-20 00:00:00|[53000.0, 60000.0...| 5220|\n",
      "|1995-01-01 00:00:00|1994-12-21 00:00:00|1995-01-20 00:00:00|[16000.0, 37000.0...|   56|\n",
      "+-------------------+-------------------+-------------------+--------------------+-----+\n",
      "only showing top 5 rows\n",
      "\n"
     ]
    },
    {
     "data": {
      "application/javascript": [
       "\n",
       "            setTimeout(function() {\n",
       "                var nbb_cell_id = 18;\n",
       "                var nbb_unformatted_code = \"sub.show(5)\";\n",
       "                var nbb_formatted_code = \"sub.show(5)\";\n",
       "                var nbb_cells = Jupyter.notebook.get_cells();\n",
       "                for (var i = 0; i < nbb_cells.length; ++i) {\n",
       "                    if (nbb_cells[i].input_prompt_number == nbb_cell_id) {\n",
       "                        if (nbb_cells[i].get_text() == nbb_unformatted_code) {\n",
       "                             nbb_cells[i].set_text(nbb_formatted_code);\n",
       "                        }\n",
       "                        break;\n",
       "                    }\n",
       "                }\n",
       "            }, 500);\n",
       "            "
      ],
      "text/plain": [
       "<IPython.core.display.Javascript object>"
      ]
     },
     "metadata": {},
     "output_type": "display_data"
    }
   ],
   "source": [
    "sub.show(5)"
   ]
  },
  {
   "cell_type": "code",
   "execution_count": 19,
   "metadata": {
    "scrolled": true
   },
   "outputs": [
    {
     "data": {
      "text/plain": [
       "9428"
      ]
     },
     "execution_count": 19,
     "metadata": {},
     "output_type": "execute_result"
    },
    {
     "data": {
      "application/javascript": [
       "\n",
       "            setTimeout(function() {\n",
       "                var nbb_cell_id = 19;\n",
       "                var nbb_unformatted_code = \"sub.count()\";\n",
       "                var nbb_formatted_code = \"sub.count()\";\n",
       "                var nbb_cells = Jupyter.notebook.get_cells();\n",
       "                for (var i = 0; i < nbb_cells.length; ++i) {\n",
       "                    if (nbb_cells[i].input_prompt_number == nbb_cell_id) {\n",
       "                        if (nbb_cells[i].get_text() == nbb_unformatted_code) {\n",
       "                             nbb_cells[i].set_text(nbb_formatted_code);\n",
       "                        }\n",
       "                        break;\n",
       "                    }\n",
       "                }\n",
       "            }, 500);\n",
       "            "
      ],
      "text/plain": [
       "<IPython.core.display.Javascript object>"
      ]
     },
     "metadata": {},
     "output_type": "display_data"
    }
   ],
   "source": [
    "sub.count()"
   ]
  },
  {
   "cell_type": "code",
   "execution_count": 20,
   "metadata": {},
   "outputs": [
    {
     "data": {
      "application/javascript": [
       "\n",
       "            setTimeout(function() {\n",
       "                var nbb_cell_id = 20;\n",
       "                var nbb_unformatted_code = \"sub = sub.groupBy(\\\"end\\\").agg(\\n    F.expr(\\\"collect_list(Prices)\\\").alias(\\\"Prices\\\"),\\n    F.expr(\\\"sum(Count)\\\").alias(\\\"Count\\\"),\\n)\";\n",
       "                var nbb_formatted_code = \"sub = sub.groupBy(\\\"end\\\").agg(\\n    F.expr(\\\"collect_list(Prices)\\\").alias(\\\"Prices\\\"),\\n    F.expr(\\\"sum(Count)\\\").alias(\\\"Count\\\"),\\n)\";\n",
       "                var nbb_cells = Jupyter.notebook.get_cells();\n",
       "                for (var i = 0; i < nbb_cells.length; ++i) {\n",
       "                    if (nbb_cells[i].input_prompt_number == nbb_cell_id) {\n",
       "                        if (nbb_cells[i].get_text() == nbb_unformatted_code) {\n",
       "                             nbb_cells[i].set_text(nbb_formatted_code);\n",
       "                        }\n",
       "                        break;\n",
       "                    }\n",
       "                }\n",
       "            }, 500);\n",
       "            "
      ],
      "text/plain": [
       "<IPython.core.display.Javascript object>"
      ]
     },
     "metadata": {},
     "output_type": "display_data"
    }
   ],
   "source": [
    "sub = sub.groupBy(\"end\").agg(\n",
    "    F.expr(\"collect_list(Prices)\").alias(\"Prices\"),\n",
    "    F.expr(\"sum(Count)\").alias(\"Count\"),\n",
    ")"
   ]
  },
  {
   "cell_type": "code",
   "execution_count": 21,
   "metadata": {},
   "outputs": [
    {
     "name": "stdout",
     "output_type": "stream",
     "text": [
      "+-------------------+--------------------+-----+\n",
      "|                end|              Prices|Count|\n",
      "+-------------------+--------------------+-----+\n",
      "|1995-01-20 00:00:00|[[16000.0, 37000....|23386|\n",
      "|1995-02-19 00:00:00|[[75550.0, 52000....|54820|\n",
      "|1995-03-21 00:00:00|[[53500.0, 138000...|55382|\n",
      "|1995-04-20 01:00:00|[[67000.0, 41000....|70964|\n",
      "|1995-05-20 01:00:00|[[9000.0, 59500.0...|64819|\n",
      "+-------------------+--------------------+-----+\n",
      "only showing top 5 rows\n",
      "\n"
     ]
    },
    {
     "data": {
      "application/javascript": [
       "\n",
       "            setTimeout(function() {\n",
       "                var nbb_cell_id = 21;\n",
       "                var nbb_unformatted_code = \"sub.show(5)\";\n",
       "                var nbb_formatted_code = \"sub.show(5)\";\n",
       "                var nbb_cells = Jupyter.notebook.get_cells();\n",
       "                for (var i = 0; i < nbb_cells.length; ++i) {\n",
       "                    if (nbb_cells[i].input_prompt_number == nbb_cell_id) {\n",
       "                        if (nbb_cells[i].get_text() == nbb_unformatted_code) {\n",
       "                             nbb_cells[i].set_text(nbb_formatted_code);\n",
       "                        }\n",
       "                        break;\n",
       "                    }\n",
       "                }\n",
       "            }, 500);\n",
       "            "
      ],
      "text/plain": [
       "<IPython.core.display.Javascript object>"
      ]
     },
     "metadata": {},
     "output_type": "display_data"
    }
   ],
   "source": [
    "sub.show(5)"
   ]
  },
  {
   "cell_type": "markdown",
   "metadata": {},
   "source": [
    "### UDFs\n",
    "User-Defined Functions (UDFs) are functions that are applied on rows. \n",
    "They require to be registered as UDFs."
   ]
  },
  {
   "cell_type": "code",
   "execution_count": 22,
   "metadata": {},
   "outputs": [
    {
     "data": {
      "application/javascript": [
       "\n",
       "            setTimeout(function() {\n",
       "                var nbb_cell_id = 22;\n",
       "                var nbb_unformatted_code = \"def unpack_list(t):\\n    return list(set([item for sublist in t for item in sublist]))\\n\\n\\nunpack_list_udf = F.udf(unpack_list, T.ArrayType(T.FloatType()))\";\n",
       "                var nbb_formatted_code = \"def unpack_list(t):\\n    return list(set([item for sublist in t for item in sublist]))\\n\\n\\nunpack_list_udf = F.udf(unpack_list, T.ArrayType(T.FloatType()))\";\n",
       "                var nbb_cells = Jupyter.notebook.get_cells();\n",
       "                for (var i = 0; i < nbb_cells.length; ++i) {\n",
       "                    if (nbb_cells[i].input_prompt_number == nbb_cell_id) {\n",
       "                        if (nbb_cells[i].get_text() == nbb_unformatted_code) {\n",
       "                             nbb_cells[i].set_text(nbb_formatted_code);\n",
       "                        }\n",
       "                        break;\n",
       "                    }\n",
       "                }\n",
       "            }, 500);\n",
       "            "
      ],
      "text/plain": [
       "<IPython.core.display.Javascript object>"
      ]
     },
     "metadata": {},
     "output_type": "display_data"
    }
   ],
   "source": [
    "def unpack_list(t):\n",
    "    return list(set([item for sublist in t for item in sublist]))\n",
    "\n",
    "\n",
    "unpack_list_udf = F.udf(unpack_list, T.ArrayType(T.FloatType()))"
   ]
  },
  {
   "cell_type": "code",
   "execution_count": 23,
   "metadata": {},
   "outputs": [
    {
     "data": {
      "application/javascript": [
       "\n",
       "            setTimeout(function() {\n",
       "                var nbb_cell_id = 23;\n",
       "                var nbb_unformatted_code = \"sub = sub.withColumn(\\\"Prices\\\", unpack_list_udf(F.col(\\\"Prices\\\")))\";\n",
       "                var nbb_formatted_code = \"sub = sub.withColumn(\\\"Prices\\\", unpack_list_udf(F.col(\\\"Prices\\\")))\";\n",
       "                var nbb_cells = Jupyter.notebook.get_cells();\n",
       "                for (var i = 0; i < nbb_cells.length; ++i) {\n",
       "                    if (nbb_cells[i].input_prompt_number == nbb_cell_id) {\n",
       "                        if (nbb_cells[i].get_text() == nbb_unformatted_code) {\n",
       "                             nbb_cells[i].set_text(nbb_formatted_code);\n",
       "                        }\n",
       "                        break;\n",
       "                    }\n",
       "                }\n",
       "            }, 500);\n",
       "            "
      ],
      "text/plain": [
       "<IPython.core.display.Javascript object>"
      ]
     },
     "metadata": {},
     "output_type": "display_data"
    }
   ],
   "source": [
    "sub = sub.withColumn(\"Prices\", unpack_list_udf(F.col(\"Prices\")))"
   ]
  },
  {
   "cell_type": "code",
   "execution_count": 24,
   "metadata": {},
   "outputs": [
    {
     "name": "stdout",
     "output_type": "stream",
     "text": [
      "+-------------------+--------------------+-----+\n",
      "|                end|              Prices|Count|\n",
      "+-------------------+--------------------+-----+\n",
      "|1995-01-20 00:00:00|[1.0, 106499.0, 1...|23386|\n",
      "|1995-02-19 00:00:00|[1.0, 106500.0, 5...|54820|\n",
      "+-------------------+--------------------+-----+\n",
      "only showing top 2 rows\n",
      "\n"
     ]
    },
    {
     "data": {
      "application/javascript": [
       "\n",
       "            setTimeout(function() {\n",
       "                var nbb_cell_id = 24;\n",
       "                var nbb_unformatted_code = \"sub.show(2)\";\n",
       "                var nbb_formatted_code = \"sub.show(2)\";\n",
       "                var nbb_cells = Jupyter.notebook.get_cells();\n",
       "                for (var i = 0; i < nbb_cells.length; ++i) {\n",
       "                    if (nbb_cells[i].input_prompt_number == nbb_cell_id) {\n",
       "                        if (nbb_cells[i].get_text() == nbb_unformatted_code) {\n",
       "                             nbb_cells[i].set_text(nbb_formatted_code);\n",
       "                        }\n",
       "                        break;\n",
       "                    }\n",
       "                }\n",
       "            }, 500);\n",
       "            "
      ],
      "text/plain": [
       "<IPython.core.display.Javascript object>"
      ]
     },
     "metadata": {},
     "output_type": "display_data"
    }
   ],
   "source": [
    "sub.show(2)"
   ]
  },
  {
   "cell_type": "code",
   "execution_count": 25,
   "metadata": {},
   "outputs": [
    {
     "data": {
      "application/javascript": [
       "\n",
       "            setTimeout(function() {\n",
       "                var nbb_cell_id = 25;\n",
       "                var nbb_unformatted_code = \"mean_udf = F.udf(lambda x: float(np.mean(x)), T.FloatType())\\nmedian_udf = F.udf(lambda x: float(np.median(x)), T.FloatType())\";\n",
       "                var nbb_formatted_code = \"mean_udf = F.udf(lambda x: float(np.mean(x)), T.FloatType())\\nmedian_udf = F.udf(lambda x: float(np.median(x)), T.FloatType())\";\n",
       "                var nbb_cells = Jupyter.notebook.get_cells();\n",
       "                for (var i = 0; i < nbb_cells.length; ++i) {\n",
       "                    if (nbb_cells[i].input_prompt_number == nbb_cell_id) {\n",
       "                        if (nbb_cells[i].get_text() == nbb_unformatted_code) {\n",
       "                             nbb_cells[i].set_text(nbb_formatted_code);\n",
       "                        }\n",
       "                        break;\n",
       "                    }\n",
       "                }\n",
       "            }, 500);\n",
       "            "
      ],
      "text/plain": [
       "<IPython.core.display.Javascript object>"
      ]
     },
     "metadata": {},
     "output_type": "display_data"
    }
   ],
   "source": [
    "mean_udf = F.udf(lambda x: float(np.mean(x)), T.FloatType())\n",
    "median_udf = F.udf(lambda x: float(np.median(x)), T.FloatType())"
   ]
  },
  {
   "cell_type": "code",
   "execution_count": 26,
   "metadata": {},
   "outputs": [
    {
     "data": {
      "application/javascript": [
       "\n",
       "            setTimeout(function() {\n",
       "                var nbb_cell_id = 26;\n",
       "                var nbb_unformatted_code = \"sub = (\\n    sub.withColumn(\\\"Mean\\\", mean_udf(\\\"Prices\\\"))\\n    .withColumn(\\\"Median\\\", median_udf(\\\"Prices\\\"))\\n    .drop(\\\"Prices\\\")\\n)\";\n",
       "                var nbb_formatted_code = \"sub = (\\n    sub.withColumn(\\\"Mean\\\", mean_udf(\\\"Prices\\\"))\\n    .withColumn(\\\"Median\\\", median_udf(\\\"Prices\\\"))\\n    .drop(\\\"Prices\\\")\\n)\";\n",
       "                var nbb_cells = Jupyter.notebook.get_cells();\n",
       "                for (var i = 0; i < nbb_cells.length; ++i) {\n",
       "                    if (nbb_cells[i].input_prompt_number == nbb_cell_id) {\n",
       "                        if (nbb_cells[i].get_text() == nbb_unformatted_code) {\n",
       "                             nbb_cells[i].set_text(nbb_formatted_code);\n",
       "                        }\n",
       "                        break;\n",
       "                    }\n",
       "                }\n",
       "            }, 500);\n",
       "            "
      ],
      "text/plain": [
       "<IPython.core.display.Javascript object>"
      ]
     },
     "metadata": {},
     "output_type": "display_data"
    }
   ],
   "source": [
    "sub = (\n",
    "    sub.withColumn(\"Mean\", mean_udf(\"Prices\"))\n",
    "    .withColumn(\"Median\", median_udf(\"Prices\"))\n",
    "    .drop(\"Prices\")\n",
    ")"
   ]
  },
  {
   "cell_type": "code",
   "execution_count": 27,
   "metadata": {},
   "outputs": [
    {
     "name": "stdout",
     "output_type": "stream",
     "text": [
      "+-------------------+-----+----------+-------+\n",
      "|                end|Count|      Mean| Median|\n",
      "+-------------------+-----+----------+-------+\n",
      "|1995-01-20 00:00:00|23386| 117187.71|67980.0|\n",
      "|1995-02-19 00:00:00|54820|103076.586|61243.5|\n",
      "|1995-03-21 00:00:00|55382| 101258.61|61800.0|\n",
      "|1995-04-20 01:00:00|70964| 104240.41|64050.0|\n",
      "|1995-05-20 01:00:00|64819| 103779.18|63040.0|\n",
      "|1995-06-19 01:00:00|65699| 104599.88|64300.0|\n",
      "|1995-07-19 01:00:00|72557|112284.766|67295.0|\n",
      "|1995-08-18 01:00:00|77568| 112278.94|67250.0|\n",
      "|1995-09-17 01:00:00|65665| 108911.55|66917.0|\n",
      "|1995-10-17 01:00:00|66213| 104434.71|62450.0|\n",
      "|1995-11-16 00:00:00|63983| 108234.99|64526.5|\n",
      "|1995-12-16 00:00:00|90067|107210.445|65150.0|\n",
      "|1996-01-15 00:00:00|43170| 104591.08|63700.0|\n",
      "|1996-02-14 00:00:00|52232| 103429.16|61325.0|\n",
      "|1996-03-15 00:00:00|58641| 108329.19|62950.0|\n",
      "|1996-04-14 01:00:00|77928|104595.234|63300.0|\n",
      "|1996-05-14 01:00:00|67736| 112503.51|64999.0|\n",
      "|1996-06-13 01:00:00|76818| 112620.64|68250.0|\n",
      "|1996-07-13 01:00:00|93451|  116999.6|69197.5|\n",
      "|1996-08-12 01:00:00|87404| 119394.24|69027.5|\n",
      "+-------------------+-----+----------+-------+\n",
      "only showing top 20 rows\n",
      "\n"
     ]
    },
    {
     "data": {
      "application/javascript": [
       "\n",
       "            setTimeout(function() {\n",
       "                var nbb_cell_id = 27;\n",
       "                var nbb_unformatted_code = \"sub.show()\";\n",
       "                var nbb_formatted_code = \"sub.show()\";\n",
       "                var nbb_cells = Jupyter.notebook.get_cells();\n",
       "                for (var i = 0; i < nbb_cells.length; ++i) {\n",
       "                    if (nbb_cells[i].input_prompt_number == nbb_cell_id) {\n",
       "                        if (nbb_cells[i].get_text() == nbb_unformatted_code) {\n",
       "                             nbb_cells[i].set_text(nbb_formatted_code);\n",
       "                        }\n",
       "                        break;\n",
       "                    }\n",
       "                }\n",
       "            }, 500);\n",
       "            "
      ],
      "text/plain": [
       "<IPython.core.display.Javascript object>"
      ]
     },
     "metadata": {},
     "output_type": "display_data"
    }
   ],
   "source": [
    "sub.show()"
   ]
  },
  {
   "cell_type": "code",
   "execution_count": 28,
   "metadata": {},
   "outputs": [
    {
     "data": {
      "application/javascript": [
       "\n",
       "            setTimeout(function() {\n",
       "                var nbb_cell_id = 28;\n",
       "                var nbb_unformatted_code = \"sub = sub.toPandas()\";\n",
       "                var nbb_formatted_code = \"sub = sub.toPandas()\";\n",
       "                var nbb_cells = Jupyter.notebook.get_cells();\n",
       "                for (var i = 0; i < nbb_cells.length; ++i) {\n",
       "                    if (nbb_cells[i].input_prompt_number == nbb_cell_id) {\n",
       "                        if (nbb_cells[i].get_text() == nbb_unformatted_code) {\n",
       "                             nbb_cells[i].set_text(nbb_formatted_code);\n",
       "                        }\n",
       "                        break;\n",
       "                    }\n",
       "                }\n",
       "            }, 500);\n",
       "            "
      ],
      "text/plain": [
       "<IPython.core.display.Javascript object>"
      ]
     },
     "metadata": {},
     "output_type": "display_data"
    }
   ],
   "source": [
    "sub = sub.toPandas()"
   ]
  },
  {
   "cell_type": "code",
   "execution_count": null,
   "metadata": {},
   "outputs": [],
   "source": [
    "sub"
   ]
  },
  {
   "cell_type": "code",
   "execution_count": 29,
   "metadata": {},
   "outputs": [
    {
     "data": {
      "image/png": "[encoded data removed]",
      "text/plain": [
       "<Figure size 1152x576 with 2 Axes>"
      ]
     },
     "metadata": {
      "needs_background": "light"
     },
     "output_type": "display_data"
    },
    {
     "data": {
      "application/javascript": [
       "\n",
       "            setTimeout(function() {\n",
       "                var nbb_cell_id = 29;\n",
       "                var nbb_unformatted_code = \"fig, (ax1, ax2) = plt.subplots(2, 1, sharex=True,figsize=(16,8))\\nplt.subplot(211)\\nplt.plot(sub['end'],sub['Median'])\\nplt.ticklabel_format(style='plain', axis='y')\\nplt.subplot(212)\\nplt.plot(sub['end'],sub['Count'])\\nplt.ticklabel_format(style='plain', axis='y')\";\n",
       "                var nbb_formatted_code = \"fig, (ax1, ax2) = plt.subplots(2, 1, sharex=True, figsize=(16, 8))\\nplt.subplot(211)\\nplt.plot(sub[\\\"end\\\"], sub[\\\"Median\\\"])\\nplt.ticklabel_format(style=\\\"plain\\\", axis=\\\"y\\\")\\nplt.subplot(212)\\nplt.plot(sub[\\\"end\\\"], sub[\\\"Count\\\"])\\nplt.ticklabel_format(style=\\\"plain\\\", axis=\\\"y\\\")\";\n",
       "                var nbb_cells = Jupyter.notebook.get_cells();\n",
       "                for (var i = 0; i < nbb_cells.length; ++i) {\n",
       "                    if (nbb_cells[i].input_prompt_number == nbb_cell_id) {\n",
       "                        if (nbb_cells[i].get_text() == nbb_unformatted_code) {\n",
       "                             nbb_cells[i].set_text(nbb_formatted_code);\n",
       "                        }\n",
       "                        break;\n",
       "                    }\n",
       "                }\n",
       "            }, 500);\n",
       "            "
      ],
      "text/plain": [
       "<IPython.core.display.Javascript object>"
      ]
     },
     "metadata": {},
     "output_type": "display_data"
    }
   ],
   "source": [
    "fig, (ax1, ax2) = plt.subplots(2, 1, sharex=True,figsize=(16,8))\n",
    "plt.subplot(211)\n",
    "plt.plot(sub['end'],sub['Median'])\n",
    "plt.ticklabel_format(style='plain', axis='y')\n",
    "plt.subplot(212)\n",
    "plt.plot(sub['end'],sub['Count'])\n",
    "plt.ticklabel_format(style='plain', axis='y')\n"
   ]
  },
  {
   "cell_type": "code",
   "execution_count": null,
   "metadata": {},
   "outputs": [],
   "source": []
  },
  {
   "cell_type": "code",
   "execution_count": null,
   "metadata": {},
   "outputs": [],
   "source": []
  },
  {
   "cell_type": "code",
   "execution_count": null,
   "metadata": {},
   "outputs": [],
   "source": []
  }
 ],
 "metadata": {
  "kernelspec": {
   "display_name": "Python 3",
   "language": "python",
   "name": "python3"
  },
  "language_info": {
   "codemirror_mode": {
    "name": "ipython",
    "version": 3
   },
   "file_extension": ".py",
   "mimetype": "text/x-python",
   "name": "python",
   "nbconvert_exporter": "python",
   "pygments_lexer": "ipython3",
   "version": "3.8.5"
  }
 },
 "nbformat": 4,
 "nbformat_minor": 2
}
